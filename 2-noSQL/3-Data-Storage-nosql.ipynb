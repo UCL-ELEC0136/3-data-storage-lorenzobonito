{
 "cells": [
  {
   "cell_type": "markdown",
   "metadata": {
    "id": "J7-WgqsNrF4r"
   },
   "source": [
    "# Task 1: Create an account and getting familiar with MongoDB\n",
    "\n",
    "## 1.1 - Setup an MongoDB ATLAS account\n",
    "Follow the instructions from here: https://docs.google.com/document/d/1Puyz0RLfEqiCRl-ZaKdtKloEqVsN8GKdMuraKn1ZdoI/edit?usp=sharing \n",
    "\n",
    "\n",
    "## 1.2 - MongoDB concepts compared to Relational DB concepts\n",
    "In MongoDB, a **database** is the container for collections. A single **collection**  is the container for documents. **Documents** are usually key/value pairs but it can include arrays and subdocuments. It can support different data types. More information here: https://docs.mongodb.com/manual/reference/bson-types/. \n",
    "\n",
    "| Relational DB  | MongoDB  |\n",
    "|---|---|\n",
    "|  Database | Database  |  \n",
    "| Tables  |  Collections |\n",
    "| Rows  | Documents  |\n",
    "| Index  |  Index |\n",
    " \t\n",
    "\n",
    "\n",
    "## 1.3 Document structure\n",
    "You can find more information about MongoDB document structure https://docs.mongodb.com/manual/core/document/. If you are not familiar with JSON and BSON specifications, you might wish to read about them here:\n",
    "- JSON: https://www.json.org/json-en.html\n",
    "- BSON: http://bsonspec.org\n",
    "\n"
   ]
  },
  {
   "cell_type": "markdown",
   "metadata": {
    "id": "NwYGltl9LBXL"
   },
   "source": [
    "# Task 2: Query a dataset\n",
    "\n",
    "We need `pymongo`, `dnspython` and `python==3.6`"
   ]
  },
  {
   "cell_type": "code",
   "execution_count": 1,
   "metadata": {
    "colab": {
     "base_uri": "https://localhost:8080/"
    },
    "id": "CPZgIJVNJY7c",
    "outputId": "32e24838-4ed2-4eff-fb89-e65a36236e76"
   },
   "outputs": [
    {
     "name": "stdout",
     "output_type": "stream",
     "text": [
      "Requirement already satisfied: pymongo in /Library/Frameworks/Python.framework/Versions/3.10/lib/python3.10/site-packages (3.12.1)\n",
      "Requirement already satisfied: dnspython in /Library/Frameworks/Python.framework/Versions/3.10/lib/python3.10/site-packages (2.1.0)\n"
     ]
    }
   ],
   "source": [
    "# install missing library\n",
    "!pip install pymongo\n",
    "!pip install dnspython"
   ]
  },
  {
   "cell_type": "markdown",
   "metadata": {
    "id": "eteAo2GFgyj1"
   },
   "source": [
    "If you use Google's collab, you now have to select `Runtime -> Restart runtime` or `Ctrl+M`.\n"
   ]
  },
  {
   "cell_type": "code",
   "execution_count": 2,
   "metadata": {
    "cellView": "form",
    "id": "LmlIorJ9An-P"
   },
   "outputs": [],
   "source": [
    "#@title Imports\n",
    "import pymongo\n",
    "from random import randint\n",
    "import passwords"
   ]
  },
  {
   "cell_type": "markdown",
   "metadata": {
    "id": "-u3HJH_9LmAE"
   },
   "source": [
    "## 2.1 - Establish a connection to MongoDB\n",
    "\n",
    "- **_[TO DO]_** : Connect to MongoDB using the MongoClient class from PyMongo library.\n",
    "\n",
    "\n"
   ]
  },
  {
   "cell_type": "code",
   "execution_count": 3,
   "metadata": {
    "id": "fo-Z1QJtAvin"
   },
   "outputs": [],
   "source": [
    "db_password = passwords.pword\n",
    "client = pymongo.MongoClient(\"mongodb+srv://lorenzobonito:{}@cluster0.gp4pc.mongodb.net/students?retryWrites=true&w=majority\".format(db_password))\n",
    "db_test = client.admin"
   ]
  },
  {
   "cell_type": "markdown",
   "metadata": {
    "id": "q0cxB6e3Z2Pz"
   },
   "source": [
    "Let's check whether everything works properly by retrieving the server status and printing the results, as follows:"
   ]
  },
  {
   "cell_type": "code",
   "execution_count": 4,
   "metadata": {
    "colab": {
     "base_uri": "https://localhost:8080/"
    },
    "id": "5m0B-AeUaBjP",
    "outputId": "01379b37-145a-4ddc-e25f-b42c81c60c54"
   },
   "outputs": [
    {
     "name": "stdout",
     "output_type": "stream",
     "text": [
      "{'host': 'cluster0-shard-00-01.gp4pc.mongodb.net:27017', 'version': '4.4.10', 'process': 'mongod', 'pid': 317589, 'uptime': 760312.0, 'uptimeMillis': 760312391, 'uptimeEstimate': 760312, 'localTime': datetime.datetime(2021, 10, 28, 9, 5, 17, 965000), 'asserts': {'regular': 0, 'warning': 0, 'msg': 0, 'user': 0, 'rollovers': 0}, 'connections': {'current': 11, 'available': 489, 'totalCreated': 76}, 'extra_info': {'note': 'fields vary by platform', 'page_faults': 0}, 'network': {'bytesIn': 319562759, 'bytesOut': 52179149, 'numRequests': 2349}, 'opcounters': {'insert': 424173, 'query': 65, 'update': 6, 'delete': 3, 'getmore': 9, 'command': 1823}, 'opcountersRepl': {'insert': 0, 'query': 0, 'update': 0, 'delete': 0, 'getmore': 0, 'command': 0}, 'repl': {'topologyVersion': {'processId': ObjectId('616ecdd5ab301e5068d65b2f'), 'counter': 6}, 'hosts': ['cluster0-shard-00-00.gp4pc.mongodb.net:27017', 'cluster0-shard-00-01.gp4pc.mongodb.net:27017', 'cluster0-shard-00-02.gp4pc.mongodb.net:27017'], 'setName': 'atlas-ydwe9n-shard-0', 'setVersion': 6, 'ismaster': True, 'secondary': False, 'primary': 'cluster0-shard-00-01.gp4pc.mongodb.net:27017', 'tags': {'workloadType': 'OPERATIONAL', 'region': 'EU_WEST_1', 'provider': 'AWS', 'nodeType': 'ELECTABLE'}, 'me': 'cluster0-shard-00-01.gp4pc.mongodb.net:27017', 'electionId': ObjectId('7fffffff0000000000000044'), 'lastWrite': {'opTime': {'ts': Timestamp(1635411917, 7), 't': 68}, 'lastWriteDate': datetime.datetime(2021, 10, 28, 9, 5, 17), 'majorityOpTime': {'ts': Timestamp(1635411917, 7), 't': 68}, 'majorityWriteDate': datetime.datetime(2021, 10, 28, 9, 5, 17)}, 'rbid': 1}, 'storageEngine': {'name': 'wiredTiger', 'supportsCommittedReads': True, 'oldestRequiredTimestampForCrashRecovery': Timestamp(1635411876, 2), 'supportsPendingDrops': True, 'dropPendingIdents': 0, 'supportsTwoPhaseIndexBuild': True, 'supportsSnapshotReadConcern': True, 'readOnly': False, 'persistent': True, 'backupCursorOpen': False}, 'mem': {'bits': 64, 'resident': 0, 'virtual': 0, 'supported': True, 'mapped': 0, 'mappedWithJournal': 0}, 'metrics': {'aggStageCounters': {'search': 0, 'searchBeta': 0}, 'atlas': {'connectionPool': {'totalCreated': 8224}}}, 'ok': 1.0, '$clusterTime': {'clusterTime': Timestamp(1635411917, 7), 'signature': {'hash': b'\\x82\\xbc\\xb7\\xee1Yb_\\x17^\\xa9\\xda\\xe3\\xfe\\xe2\\x86\\xc5\\xbe8\\x1c', 'keyId': 6968822331703558145}}, 'operationTime': Timestamp(1635411917, 7), 'opLatencies': {'reads': {'latency': 1595507, 'ops': 130}, 'writes': {'latency': 366395083, 'ops': 451}, 'commands': {'latency': 4315218499, 'ops': 1765}}, 'atlasVersion': {'version': '20211005.0.0.1633092820', 'gitVersion': '65acfa15a9334a2fef071a106ccab4f5c565bca3'}}\n"
     ]
    }
   ],
   "source": [
    "serverStatusResult = db_test.command(\"serverStatus\")\n",
    "print(serverStatusResult)"
   ]
  },
  {
   "cell_type": "markdown",
   "metadata": {
    "id": "VBV1hCxNMItl"
   },
   "source": [
    "\n",
    "## 2.2 - Create sample data\n",
    "\n",
    "Let's create our synthetic dataset with students, their mark (scaled from 1-10) and the reviewer on DAPS 2020.\n"
   ]
  },
  {
   "cell_type": "code",
   "execution_count": 5,
   "metadata": {
    "colab": {
     "base_uri": "https://localhost:8080/"
    },
    "id": "jfoG5Yema9jx",
    "outputId": "a76f4637-9f38-438c-ec58-ef46eb8e6178"
   },
   "outputs": [
    {
     "name": "stdout",
     "output_type": "stream",
     "text": [
      "[{'name': 'Alex Palmer', 'DAPS_assignment': 1, 'reviewer': 'Miguel'}, {'name': 'Natalia Peterson', 'DAPS_assignment': 3, 'reviewer': 'Laura'}, {'name': 'Maria Roberts', 'DAPS_assignment': 10, 'reviewer': 'Miguel'}, {'name': 'Mike Armstrong', 'DAPS_assignment': 9, 'reviewer': 'Miguel'}, {'name': 'Nick Armstrong', 'DAPS_assignment': 2, 'reviewer': 'Laura'}, {'name': 'Andrew Adams', 'DAPS_assignment': 2, 'reviewer': 'Miguel'}, {'name': 'George Armstrong', 'DAPS_assignment': 4, 'reviewer': 'Miguel'}, {'name': 'Natalia Turner', 'DAPS_assignment': 4, 'reviewer': 'Miguel'}, {'name': 'George Armstrong', 'DAPS_assignment': 7, 'reviewer': 'Miguel'}, {'name': 'Mike Peterson', 'DAPS_assignment': 1, 'reviewer': 'Miguel'}, {'name': 'George Peterson', 'DAPS_assignment': 3, 'reviewer': 'Laura'}, {'name': 'Andrew Armstrong', 'DAPS_assignment': 6, 'reviewer': 'Miguel'}, {'name': 'Alex Adams', 'DAPS_assignment': 7, 'reviewer': 'Miguel'}, {'name': 'Nick Roberts', 'DAPS_assignment': 1, 'reviewer': 'Miguel'}, {'name': 'Alex Turner', 'DAPS_assignment': 10, 'reviewer': 'Miguel'}, {'name': 'Mike Roberts', 'DAPS_assignment': 5, 'reviewer': 'Laura'}, {'name': 'Maria Turner', 'DAPS_assignment': 10, 'reviewer': 'Miguel'}, {'name': 'Anna Turner', 'DAPS_assignment': 7, 'reviewer': 'Miguel'}, {'name': 'Natalia Peterson', 'DAPS_assignment': 5, 'reviewer': 'Laura'}, {'name': 'Natalia Peterson', 'DAPS_assignment': 2, 'reviewer': 'Miguel'}, {'name': 'Natalia Adams', 'DAPS_assignment': 3, 'reviewer': 'Miguel'}, {'name': 'Andrew Armstrong', 'DAPS_assignment': 8, 'reviewer': 'Laura'}, {'name': 'Andrew Turner', 'DAPS_assignment': 5, 'reviewer': 'Laura'}, {'name': 'Paul Peterson', 'DAPS_assignment': 2, 'reviewer': 'Miguel'}, {'name': 'Natalia Baker', 'DAPS_assignment': 10, 'reviewer': 'Laura'}, {'name': 'Maria Turner', 'DAPS_assignment': 1, 'reviewer': 'Laura'}, {'name': 'Maria Palmer', 'DAPS_assignment': 1, 'reviewer': 'Miguel'}, {'name': 'Nick Armstrong', 'DAPS_assignment': 5, 'reviewer': 'Laura'}, {'name': 'Andrew Baker', 'DAPS_assignment': 10, 'reviewer': 'Miguel'}]\n"
     ]
    }
   ],
   "source": [
    "names = ['Anna','Maria','George', 'Mike', 'Alex','Paul','Nick', 'Andrew','Ellie', 'Natalia']\n",
    "surname = ['Adams', 'Baker', 'Palmer', 'Peterson', 'Roberts', 'Turner', 'Armstrong']\n",
    "reviewer = ['Laura','Miguel']\n",
    "student = []\n",
    "for i in range(1, 30):\n",
    "    student.append({\n",
    "        'name' : names[randint(0, (len(names)-1))] + ' '  + surname[randint(0, (len(surname)-1))],\n",
    "        'DAPS_assignment' : randint(1, 10),\n",
    "        'reviewer':  reviewer[randint(0, (len(reviewer)-1))] })\n",
    "print(student)"
   ]
  },
  {
   "cell_type": "markdown",
   "metadata": {
    "id": "D_GisBsPa7R_"
   },
   "source": [
    "\n",
    "\n",
    "**_[TO DO]_**: Upload this database using `insert_one` or `insert_many` command.\n"
   ]
  },
  {
   "cell_type": "code",
   "execution_count": 6,
   "metadata": {
    "id": "Fy7pnMz3gUxL"
   },
   "outputs": [],
   "source": [
    "# Create a database object called “students”\n",
    "db = client.students"
   ]
  },
  {
   "cell_type": "code",
   "execution_count": 7,
   "metadata": {
    "id": "hMZf2aDDi7tC"
   },
   "outputs": [],
   "source": [
    "# Upload database to DBMongo\n",
    "db.collection.insert_many(student);"
   ]
  },
  {
   "cell_type": "markdown",
   "metadata": {
    "id": "ACbLHpq0MuxJ"
   },
   "source": [
    "## 2.3 - Query a document\n",
    "\n",
    "\n",
    "**_[TO DO]_** : Find one student with score of 5. You can use the command `find_one`.\n",
    "\n"
   ]
  },
  {
   "cell_type": "code",
   "execution_count": 8,
   "metadata": {
    "id": "5568ROVpjbbc"
   },
   "outputs": [
    {
     "data": {
      "text/plain": [
       "{'_id': ObjectId('617a67ce0829b7eebe2c839f'),\n",
       " 'name': 'Mike Roberts',\n",
       " 'DAPS_assignment': 5,\n",
       " 'reviewer': 'Laura'}"
      ]
     },
     "execution_count": 8,
     "metadata": {},
     "output_type": "execute_result"
    }
   ],
   "source": [
    "# Finding one student with final DAPS_assignment score equal 5\n",
    "\n",
    "db.collection.find_one({\"DAPS_assignment\": 5})"
   ]
  },
  {
   "cell_type": "markdown",
   "metadata": {
    "id": "N-YouR9Djwo3"
   },
   "source": [
    "\n",
    "**_[TO DO]_** : Query the database to find the total number of students with score 8 and 3? You can use `aggregation` or `find` command.\n"
   ]
  },
  {
   "cell_type": "code",
   "execution_count": 9,
   "metadata": {
    "id": "Y_py_6fykWdB"
   },
   "outputs": [
    {
     "name": "stdout",
     "output_type": "stream",
     "text": [
      "{'_id': ObjectId('617a67ce0829b7eebe2c8391'), 'name': 'Natalia Peterson', 'DAPS_assignment': 3, 'reviewer': 'Laura'}\n",
      "{'_id': ObjectId('617a67ce0829b7eebe2c839a'), 'name': 'George Peterson', 'DAPS_assignment': 3, 'reviewer': 'Laura'}\n",
      "{'_id': ObjectId('617a67ce0829b7eebe2c83a4'), 'name': 'Natalia Adams', 'DAPS_assignment': 3, 'reviewer': 'Miguel'}\n",
      "{'_id': ObjectId('617a67ce0829b7eebe2c83a5'), 'name': 'Andrew Armstrong', 'DAPS_assignment': 8, 'reviewer': 'Laura'}\n",
      "4\n"
     ]
    }
   ],
   "source": [
    "# Counting the total number of students with final DAPS_assignment score equal to 3 and 8.\n",
    "\n",
    "# for student in db.collection.find({\"DAPS_assignment\": 3}):\n",
    "#     print(student)\n",
    "# for student in db.collection.find({\"DAPS_assignment\": 8}):\n",
    "#     print(student)\n",
    "\n",
    "student_count = 0\n",
    "for student in db.collection.find({\"$or\": [{\"DAPS_assignment\": 3}, {\"DAPS_assignment\": 8}]}).sort(\"DAPS_assignment\"):\n",
    "    print(student)\n",
    "    student_count += 1\n",
    "\n",
    "print(student_count)"
   ]
  },
  {
   "cell_type": "code",
   "execution_count": 10,
   "metadata": {},
   "outputs": [
    {
     "data": {
      "text/plain": [
       "4"
      ]
     },
     "execution_count": 10,
     "metadata": {},
     "output_type": "execute_result"
    }
   ],
   "source": [
    "# The above could also be more easily achieved this way:\n",
    "number_of_students = db.collection.count_documents({\"DAPS_assignment\": 3}) + db.collection.count_documents({\"DAPS_assignment\": 8})\n",
    "number_of_students"
   ]
  },
  {
   "cell_type": "markdown",
   "metadata": {
    "id": "xIUZ5CKbYBAH"
   },
   "source": [
    " Dr. Laura Toni is happy today and she is going to pass all students with final score 4.\n",
    " \n",
    "**_[TO DO]_** : Change the score on all the students with final mark 4 to 5. You can use one of the following commands: `update_one`, `update_many` and `replace_one`."
   ]
  },
  {
   "cell_type": "code",
   "execution_count": 11,
   "metadata": {
    "id": "jZa9wDMwmKCN"
   },
   "outputs": [
    {
     "name": "stdout",
     "output_type": "stream",
     "text": [
      "{'_id': ObjectId('617a67ce0829b7eebe2c83a6'), 'name': 'Andrew Turner', 'DAPS_assignment': 5, 'reviewer': 'Laura'}\n",
      "{'_id': ObjectId('617a67ce0829b7eebe2c8396'), 'name': 'George Armstrong', 'DAPS_assignment': 4, 'reviewer': 'Miguel'}\n",
      "{'_id': ObjectId('617a67ce0829b7eebe2c839f'), 'name': 'Mike Roberts', 'DAPS_assignment': 5, 'reviewer': 'Laura'}\n",
      "{'_id': ObjectId('617a67ce0829b7eebe2c83a2'), 'name': 'Natalia Peterson', 'DAPS_assignment': 5, 'reviewer': 'Laura'}\n",
      "{'_id': ObjectId('617a67ce0829b7eebe2c8397'), 'name': 'Natalia Turner', 'DAPS_assignment': 4, 'reviewer': 'Miguel'}\n",
      "{'_id': ObjectId('617a67ce0829b7eebe2c83ab'), 'name': 'Nick Armstrong', 'DAPS_assignment': 5, 'reviewer': 'Laura'}\n",
      "\n",
      "Changing marks...\n",
      "\n",
      "{'_id': ObjectId('617a67ce0829b7eebe2c83a6'), 'name': 'Andrew Turner', 'DAPS_assignment': 5, 'reviewer': 'Laura'}\n",
      "{'_id': ObjectId('617a67ce0829b7eebe2c8396'), 'name': 'George Armstrong', 'DAPS_assignment': 5, 'reviewer': 'Miguel'}\n",
      "{'_id': ObjectId('617a67ce0829b7eebe2c839f'), 'name': 'Mike Roberts', 'DAPS_assignment': 5, 'reviewer': 'Laura'}\n",
      "{'_id': ObjectId('617a67ce0829b7eebe2c83a2'), 'name': 'Natalia Peterson', 'DAPS_assignment': 5, 'reviewer': 'Laura'}\n",
      "{'_id': ObjectId('617a67ce0829b7eebe2c8397'), 'name': 'Natalia Turner', 'DAPS_assignment': 5, 'reviewer': 'Miguel'}\n",
      "{'_id': ObjectId('617a67ce0829b7eebe2c83ab'), 'name': 'Nick Armstrong', 'DAPS_assignment': 5, 'reviewer': 'Laura'}\n"
     ]
    }
   ],
   "source": [
    "# Check what the initial situation is\n",
    "for student in db.collection.find({\"$or\": [{\"DAPS_assignment\": 4}, {\"DAPS_assignment\": 5}]}).sort(\"name\"):\n",
    "    print(student)\n",
    "\n",
    "# Change marks of 4 to marks of 5\n",
    "print(\"\\nChanging marks...\\n\")\n",
    "db.collection.update_many({\"DAPS_assignment\": 4}, {\"$set\": {\"DAPS_assignment\": 5}})\n",
    "\n",
    "# Check if the change worked\n",
    "for student in db.collection.find({\"$or\": [{\"DAPS_assignment\": 4}, {\"DAPS_assignment\": 5}]}).sort(\"name\"):\n",
    "    print(student)"
   ]
  },
  {
   "cell_type": "markdown",
   "metadata": {
    "id": "RkhWS8UTNzN6"
   },
   "source": [
    "That was an unfair move!\n",
    "\n",
    "**_[TO DO]_** : Let's delete all the documents that Dr. Laura Toni marked!"
   ]
  },
  {
   "cell_type": "code",
   "execution_count": 12,
   "metadata": {
    "id": "33_3Nkyyq0TW"
   },
   "outputs": [
    {
     "name": "stdout",
     "output_type": "stream",
     "text": [
      "Initial number of assignments marked by Dr Toni: 10\n",
      "Deleted documents: 10\n",
      "Final number of assignments marked by Dr Toni: 0\n"
     ]
    }
   ],
   "source": [
    "# Check what the initial situation is\n",
    "print(\"Initial number of assignments marked by Dr Toni: {}\".format(db.collection.count_documents({\"reviewer\": \"Laura\"})))\n",
    "\n",
    "# Deleting all the documents marked by Dr Toni\n",
    "deletion = db.collection.delete_many({\"reviewer\": \"Laura\"})\n",
    "print(\"Deleted documents: {}\".format(deletion.deleted_count))\n",
    "\n",
    "# Double check that deletion worked\n",
    "print(\"Final number of assignments marked by Dr Toni: {}\".format(db.collection.count_documents({\"reviewer\": \"Laura\"})))\n"
   ]
  },
  {
   "cell_type": "markdown",
   "metadata": {
    "id": "Thelgo7FiULB"
   },
   "source": [
    "GOOD JOB! You finished the tasks!\n",
    "\n",
    "\n",
    "You might be asking yourself now: Why and when a non-elational database is useful? MongoDB allows storing data in documents. This is very useful when you have a lot of many-to-many relationships. Other advantages include:\n",
    "- it enables the fast development of applications, \n",
    "- it supports highly diverse data types, \n",
    "- and allows efficient interations with applications at scale.\n",
    "Read more here: https://www.mongodb.com/compare/mongodb-mysql \n",
    "\n",
    "\n",
    "You can learn more about developing MongoDB-based applications here:\n",
    "- https://university.mongodb.com/courses/M121/about?jmp=M101Pap\n",
    "- https://university.mongodb.com/courses/M220P/about?jmp=M101Pap\n",
    "- https://university.mongodb.com/courses/M320/about?jmp=M101Pap"
   ]
  }
 ],
 "metadata": {
  "colab": {
   "collapsed_sections": [],
   "name": "LAB3.ipynb",
   "provenance": []
  },
  "interpreter": {
   "hash": "397704579725e15f5c7cb49fe5f0341eb7531c82d19f2c29d197e8b64ab5776b"
  },
  "kernelspec": {
   "display_name": "Python 3.9.7 64-bit",
   "name": "python3"
  },
  "language_info": {
   "codemirror_mode": {
    "name": "ipython",
    "version": 3
   },
   "file_extension": ".py",
   "mimetype": "text/x-python",
   "name": "python",
   "nbconvert_exporter": "python",
   "pygments_lexer": "ipython3",
   "version": "3.9.7"
  }
 },
 "nbformat": 4,
 "nbformat_minor": 1
}
